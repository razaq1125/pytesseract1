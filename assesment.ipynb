{
 "cells": [
  {
   "cell_type": "code",
   "execution_count": null,
   "id": "68ff69ca",
   "metadata": {},
   "outputs": [],
   "source": [
    "pip install pytesseract"
   ]
  },
  {
   "cell_type": "code",
   "execution_count": null,
   "id": "13d6aedb",
   "metadata": {},
   "outputs": [],
   "source": [
    "pip install tesseract"
   ]
  },
  {
   "cell_type": "code",
   "execution_count": null,
   "id": "09e6befa",
   "metadata": {},
   "outputs": [],
   "source": [
    "pip install pillow pytesseract"
   ]
  },
  {
   "cell_type": "code",
   "execution_count": null,
   "id": "65549b92",
   "metadata": {},
   "outputs": [],
   "source": [
    "import cv2\n",
    "import pytesseract\n",
    "\n",
    "def extract_filled_answers(empty_paper_path, filled_answer_path):\n",
    "    try:\n",
    "        # Load images\n",
    "        empty_paper = cv2.imread(empty_paper_path, cv2.IMREAD_GRAYSCALE)\n",
    "        filled_answer = cv2.imread(filled_answer_path, cv2.IMREAD_GRAYSCALE)\n",
    "        \n",
    "        # Calculate absolute difference between images\n",
    "        diff_image = cv2.absdiff(empty_paper, filled_answer)\n",
    "        \n",
    "        # Threshold the difference image\n",
    "        _, thresholded_diff = cv2.threshold(diff_image, 100, 255, cv2.THRESH_BINARY)\n",
    "        \n",
    "        # Apply OCR to the thresholded difference image\n",
    "        answers_text = pytesseract.image_to_string(thresholded_diff)\n",
    "        \n",
    "        return answers_text\n",
    "    except Exception as e:\n",
    "        print(f\"An error occurred: {e}\")\n",
    "        return None\n",
    "\n",
    "def main():\n",
    "    empty_paper_path = \"empty_paper.jpg\"  # Replace with the actual path to the empty paper image\n",
    "    filled_answer_path = \"filled_answer.jpg\"  # Replace with the actual path to the filled answer image\n",
    "    \n",
    "    filled_answers = extract_filled_answers(empty_paper_path, filled_answer_path)\n",
    "    \n",
    "    if filled_answers is not None:\n",
    "        print(\"Filled Answers:\")\n",
    "        print(filled_answers)\n",
    "    else:\n",
    "        print(\"Unable to extract filled answers.\")\n",
    "\n",
    "if __name__ == \"__main__\":\n",
    "    main()"
   ]
  }
 ],
 "metadata": {
  "kernelspec": {
   "display_name": "Python 3 (ipykernel)",
   "language": "python",
   "name": "python3"
  },
  "language_info": {
   "codemirror_mode": {
    "name": "ipython",
    "version": 3
   },
   "file_extension": ".py",
   "mimetype": "text/x-python",
   "name": "python",
   "nbconvert_exporter": "python",
   "pygments_lexer": "ipython3",
   "version": "3.9.13"
  }
 },
 "nbformat": 4,
 "nbformat_minor": 5
}
